{
 "cells": [
  {
   "cell_type": "markdown",
   "id": "a81356fb",
   "metadata": {},
   "source": [
    "### In this lab we will find the customers who were active in consecutive months of May and June. Follow the steps to complete the analysis."
   ]
  },
  {
   "cell_type": "code",
   "execution_count": 5,
   "id": "47633eef",
   "metadata": {},
   "outputs": [
    {
     "name": "stdout",
     "output_type": "stream",
     "text": [
      "········\n"
     ]
    }
   ],
   "source": [
    "import pymysql\n",
    "from sqlalchemy import create_engine\n",
    "import pandas as pd\n",
    "import getpass  # to get the password without showing the input\n",
    "password = getpass.getpass()"
   ]
  },
  {
   "cell_type": "code",
   "execution_count": 6,
   "id": "a10b5df5",
   "metadata": {},
   "outputs": [
    {
     "data": {
      "text/html": [
       "<div>\n",
       "<style scoped>\n",
       "    .dataframe tbody tr th:only-of-type {\n",
       "        vertical-align: middle;\n",
       "    }\n",
       "\n",
       "    .dataframe tbody tr th {\n",
       "        vertical-align: top;\n",
       "    }\n",
       "\n",
       "    .dataframe thead th {\n",
       "        text-align: right;\n",
       "    }\n",
       "</style>\n",
       "<table border=\"1\" class=\"dataframe\">\n",
       "  <thead>\n",
       "    <tr style=\"text-align: right;\">\n",
       "      <th></th>\n",
       "      <th>rental_id</th>\n",
       "      <th>rental_date</th>\n",
       "      <th>inventory_id</th>\n",
       "      <th>customer_id</th>\n",
       "      <th>return_date</th>\n",
       "      <th>staff_id</th>\n",
       "      <th>last_update</th>\n",
       "    </tr>\n",
       "  </thead>\n",
       "  <tbody>\n",
       "    <tr>\n",
       "      <th>1151</th>\n",
       "      <td>1153</td>\n",
       "      <td>2005-05-31 21:36:44</td>\n",
       "      <td>2725</td>\n",
       "      <td>506</td>\n",
       "      <td>2005-06-10 01:26:44</td>\n",
       "      <td>2</td>\n",
       "      <td>2006-02-15 21:30:53</td>\n",
       "    </tr>\n",
       "    <tr>\n",
       "      <th>1152</th>\n",
       "      <td>1154</td>\n",
       "      <td>2005-05-31 21:42:09</td>\n",
       "      <td>2732</td>\n",
       "      <td>59</td>\n",
       "      <td>2005-06-08 16:40:09</td>\n",
       "      <td>1</td>\n",
       "      <td>2006-02-15 21:30:53</td>\n",
       "    </tr>\n",
       "    <tr>\n",
       "      <th>1153</th>\n",
       "      <td>1155</td>\n",
       "      <td>2005-05-31 22:17:11</td>\n",
       "      <td>2048</td>\n",
       "      <td>251</td>\n",
       "      <td>2005-06-04 20:27:11</td>\n",
       "      <td>2</td>\n",
       "      <td>2006-02-15 21:30:53</td>\n",
       "    </tr>\n",
       "    <tr>\n",
       "      <th>1154</th>\n",
       "      <td>1156</td>\n",
       "      <td>2005-05-31 22:37:34</td>\n",
       "      <td>460</td>\n",
       "      <td>106</td>\n",
       "      <td>2005-06-01 23:02:34</td>\n",
       "      <td>2</td>\n",
       "      <td>2006-02-15 21:30:53</td>\n",
       "    </tr>\n",
       "    <tr>\n",
       "      <th>1155</th>\n",
       "      <td>1157</td>\n",
       "      <td>2005-05-31 22:47:45</td>\n",
       "      <td>1449</td>\n",
       "      <td>61</td>\n",
       "      <td>2005-06-02 18:01:45</td>\n",
       "      <td>1</td>\n",
       "      <td>2006-02-15 21:30:53</td>\n",
       "    </tr>\n",
       "  </tbody>\n",
       "</table>\n",
       "</div>"
      ],
      "text/plain": [
       "      rental_id         rental_date  inventory_id  customer_id  \\\n",
       "1151       1153 2005-05-31 21:36:44          2725          506   \n",
       "1152       1154 2005-05-31 21:42:09          2732           59   \n",
       "1153       1155 2005-05-31 22:17:11          2048          251   \n",
       "1154       1156 2005-05-31 22:37:34           460          106   \n",
       "1155       1157 2005-05-31 22:47:45          1449           61   \n",
       "\n",
       "             return_date  staff_id         last_update  \n",
       "1151 2005-06-10 01:26:44         2 2006-02-15 21:30:53  \n",
       "1152 2005-06-08 16:40:09         1 2006-02-15 21:30:53  \n",
       "1153 2005-06-04 20:27:11         2 2006-02-15 21:30:53  \n",
       "1154 2005-06-01 23:02:34         2 2006-02-15 21:30:53  \n",
       "1155 2005-06-02 18:01:45         1 2006-02-15 21:30:53  "
      ]
     },
     "execution_count": 6,
     "metadata": {},
     "output_type": "execute_result"
    }
   ],
   "source": [
    "#Create a table rentals_may to store the data from rental table with information for the month of May.\n",
    "\n",
    "connection_string = 'mysql+pymysql://root:' + password + '@localhost/sakila'\n",
    "engine = create_engine(connection_string)\n",
    "\n",
    "rentals_may = pd.read_sql_query('SELECT * FROM rental WHERE rental_date LIKE \"2005-05%%\"', engine)\n",
    "rentals_may.tail()"
   ]
  },
  {
   "cell_type": "code",
   "execution_count": 8,
   "id": "ac5379f0",
   "metadata": {},
   "outputs": [
    {
     "data": {
      "text/plain": [
       "<sqlalchemy.engine.cursor.LegacyCursorResult at 0x7ff5c665e250>"
      ]
     },
     "execution_count": 8,
     "metadata": {},
     "output_type": "execute_result"
    }
   ],
   "source": [
    "#Insert values in the table rentals_may using the table rental, filtering values only for the month of May.\n",
    "query = '''\n",
    "       insert into rental(rental_id, rental_date, inventory_id, customer_id, return_date, staff_id)\n",
    "       values(16054,'2005-05-31 22:48:45',1450,61,'2005-05-02 18:01:45',2);\n",
    "      '''\n",
    "engine.execute(query)"
   ]
  },
  {
   "cell_type": "code",
   "execution_count": 13,
   "id": "73f54cf0",
   "metadata": {},
   "outputs": [
    {
     "data": {
      "text/plain": [
       "<sqlalchemy.engine.cursor.LegacyCursorResult at 0x7ff5c662bd90>"
      ]
     },
     "execution_count": 13,
     "metadata": {},
     "output_type": "execute_result"
    }
   ],
   "source": [
    "#Create a table rentals_june to store the data from rental table with information for the month of June.\n",
    "#pd.to_sql\n",
    "#table.to_sql\n",
    "query = '''\n",
    "        CREATE TABLE `rentals_june` (\n",
    "            `rental_id` int NOT NULL AUTO_INCREMENT,\n",
    "            `rental_date` datetime NOT NULL,\n",
    "            `inventory_id` mediumint unsigned NOT NULL,\n",
    "            `customer_id` smallint unsigned NOT NULL,\n",
    "            `return_date` datetime DEFAULT NULL,\n",
    "            `staff_id` tinyint unsigned NOT NULL,\n",
    "            `last_update` timestamp NOT NULL DEFAULT CURRENT_TIMESTAMP ON UPDATE CURRENT_TIMESTAMP,\n",
    "            PRIMARY KEY (`rental_id`)\n",
    "            ) ENGINE=InnoDB AUTO_INCREMENT=16055 DEFAULT CHARSET=utf8mb4 COLLATE=utf8mb4_0900_ai_ci;\n",
    "'''\n",
    "engine.execute(query)"
   ]
  },
  {
   "cell_type": "code",
   "execution_count": null,
   "id": "166b7343",
   "metadata": {},
   "outputs": [],
   "source": [
    "#Insert values in the table rentals_june using the table rental, filtering values only for the month of June.\n",
    "#Insert done with import wizard"
   ]
  },
  {
   "cell_type": "markdown",
   "id": "bd9ea2f1",
   "metadata": {},
   "source": [
    "Create a Python connection with SQL database and retrieve the results of the last two queries (also mentioned below) as dataframes:\n",
    "* Check the number of rentals for each customer for May\n",
    "* Check the number of rentals for each customer for June\n",
    "\n",
    "Hint: You can store the results from the two queries in two separate dataframes.\n"
   ]
  },
  {
   "cell_type": "code",
   "execution_count": 21,
   "id": "f7ffec31",
   "metadata": {},
   "outputs": [
    {
     "data": {
      "text/html": [
       "<div>\n",
       "<style scoped>\n",
       "    .dataframe tbody tr th:only-of-type {\n",
       "        vertical-align: middle;\n",
       "    }\n",
       "\n",
       "    .dataframe tbody tr th {\n",
       "        vertical-align: top;\n",
       "    }\n",
       "\n",
       "    .dataframe thead th {\n",
       "        text-align: right;\n",
       "    }\n",
       "</style>\n",
       "<table border=\"1\" class=\"dataframe\">\n",
       "  <thead>\n",
       "    <tr style=\"text-align: right;\">\n",
       "      <th></th>\n",
       "      <th>customer_id</th>\n",
       "      <th>rentals_may</th>\n",
       "    </tr>\n",
       "  </thead>\n",
       "  <tbody>\n",
       "    <tr>\n",
       "      <th>0</th>\n",
       "      <td>1</td>\n",
       "      <td>2</td>\n",
       "    </tr>\n",
       "    <tr>\n",
       "      <th>1</th>\n",
       "      <td>2</td>\n",
       "      <td>1</td>\n",
       "    </tr>\n",
       "    <tr>\n",
       "      <th>2</th>\n",
       "      <td>3</td>\n",
       "      <td>2</td>\n",
       "    </tr>\n",
       "    <tr>\n",
       "      <th>3</th>\n",
       "      <td>5</td>\n",
       "      <td>3</td>\n",
       "    </tr>\n",
       "    <tr>\n",
       "      <th>4</th>\n",
       "      <td>6</td>\n",
       "      <td>3</td>\n",
       "    </tr>\n",
       "  </tbody>\n",
       "</table>\n",
       "</div>"
      ],
      "text/plain": [
       "   customer_id  rentals_may\n",
       "0            1            2\n",
       "1            2            1\n",
       "2            3            2\n",
       "3            5            3\n",
       "4            6            3"
      ]
     },
     "execution_count": 21,
     "metadata": {},
     "output_type": "execute_result"
    }
   ],
   "source": [
    "#Check the number of rentals for each customer for May.\n",
    "query = '''\n",
    "        SELECT customer_id, count(rental_id) AS rentals_may\n",
    "        FROM sakila.rental\n",
    "        WHERE rental_date LIKE \"20%%-05%%\"\n",
    "        GROUP BY customer_id;\n",
    "        '''\n",
    "\n",
    "customers_may = pd.read_sql_query(query, engine)\n",
    "customers_may.head()"
   ]
  },
  {
   "cell_type": "code",
   "execution_count": 22,
   "id": "6f897879",
   "metadata": {},
   "outputs": [
    {
     "data": {
      "text/html": [
       "<div>\n",
       "<style scoped>\n",
       "    .dataframe tbody tr th:only-of-type {\n",
       "        vertical-align: middle;\n",
       "    }\n",
       "\n",
       "    .dataframe tbody tr th {\n",
       "        vertical-align: top;\n",
       "    }\n",
       "\n",
       "    .dataframe thead th {\n",
       "        text-align: right;\n",
       "    }\n",
       "</style>\n",
       "<table border=\"1\" class=\"dataframe\">\n",
       "  <thead>\n",
       "    <tr style=\"text-align: right;\">\n",
       "      <th></th>\n",
       "      <th>customer_id</th>\n",
       "      <th>rentals_june</th>\n",
       "    </tr>\n",
       "  </thead>\n",
       "  <tbody>\n",
       "    <tr>\n",
       "      <th>0</th>\n",
       "      <td>1</td>\n",
       "      <td>7</td>\n",
       "    </tr>\n",
       "    <tr>\n",
       "      <th>1</th>\n",
       "      <td>2</td>\n",
       "      <td>1</td>\n",
       "    </tr>\n",
       "    <tr>\n",
       "      <th>2</th>\n",
       "      <td>3</td>\n",
       "      <td>4</td>\n",
       "    </tr>\n",
       "    <tr>\n",
       "      <th>3</th>\n",
       "      <td>4</td>\n",
       "      <td>6</td>\n",
       "    </tr>\n",
       "    <tr>\n",
       "      <th>4</th>\n",
       "      <td>5</td>\n",
       "      <td>6</td>\n",
       "    </tr>\n",
       "  </tbody>\n",
       "</table>\n",
       "</div>"
      ],
      "text/plain": [
       "   customer_id  rentals_june\n",
       "0            1             7\n",
       "1            2             1\n",
       "2            3             4\n",
       "3            4             6\n",
       "4            5             6"
      ]
     },
     "execution_count": 22,
     "metadata": {},
     "output_type": "execute_result"
    }
   ],
   "source": [
    "#Check the number of rentals for each customer for June.\n",
    "query = '''\n",
    "        SELECT customer_id, count(rental_id) AS rentals_june\n",
    "        FROM sakila.rental\n",
    "        WHERE rental_date LIKE \"20%%-06%%\"\n",
    "        GROUP BY customer_id;\n",
    "        '''\n",
    "\n",
    "customers_june = pd.read_sql_query(query, engine)\n",
    "customers_june.head()"
   ]
  },
  {
   "cell_type": "markdown",
   "id": "9d771bd6",
   "metadata": {},
   "source": [
    "Write a function that checks if customer borrowed more or less films in the month of June as compared to May.\n",
    "\n",
    "Hint: For this part, you can create a join between the two dataframes created before, using the merge function available for pandas dataframes. Here is a link to the documentation for the merge function."
   ]
  },
  {
   "cell_type": "code",
   "execution_count": null,
   "id": "4a46db24",
   "metadata": {},
   "outputs": [],
   "source": [
    "query = '''\n",
    "        SELECT customer_id, count(rental_id) AS rentals_june, count(rental_id) AS rentals_may\n",
    "        FROM sakila.rental\n",
    "        WHERE rental_date LIKE \"20%%-06%%\"\n",
    "        GROUP BY customer_id;\n",
    "        '''\n",
    "\n",
    "may_vs_june = pd.read_sql_query(query, engine)\n",
    "may_vs_june.head()"
   ]
  },
  {
   "cell_type": "code",
   "execution_count": 26,
   "id": "8dfb5351",
   "metadata": {},
   "outputs": [
    {
     "data": {
      "text/html": [
       "<div>\n",
       "<style scoped>\n",
       "    .dataframe tbody tr th:only-of-type {\n",
       "        vertical-align: middle;\n",
       "    }\n",
       "\n",
       "    .dataframe tbody tr th {\n",
       "        vertical-align: top;\n",
       "    }\n",
       "\n",
       "    .dataframe thead th {\n",
       "        text-align: right;\n",
       "    }\n",
       "</style>\n",
       "<table border=\"1\" class=\"dataframe\">\n",
       "  <thead>\n",
       "    <tr style=\"text-align: right;\">\n",
       "      <th></th>\n",
       "      <th>customer_id</th>\n",
       "      <th>rentals_may</th>\n",
       "      <th>rentals_june</th>\n",
       "    </tr>\n",
       "  </thead>\n",
       "  <tbody>\n",
       "    <tr>\n",
       "      <th>0</th>\n",
       "      <td>1</td>\n",
       "      <td>2.0</td>\n",
       "      <td>7</td>\n",
       "    </tr>\n",
       "    <tr>\n",
       "      <th>1</th>\n",
       "      <td>2</td>\n",
       "      <td>1.0</td>\n",
       "      <td>1</td>\n",
       "    </tr>\n",
       "    <tr>\n",
       "      <th>2</th>\n",
       "      <td>3</td>\n",
       "      <td>2.0</td>\n",
       "      <td>4</td>\n",
       "    </tr>\n",
       "    <tr>\n",
       "      <th>3</th>\n",
       "      <td>4</td>\n",
       "      <td>NaN</td>\n",
       "      <td>6</td>\n",
       "    </tr>\n",
       "    <tr>\n",
       "      <th>4</th>\n",
       "      <td>5</td>\n",
       "      <td>3.0</td>\n",
       "      <td>6</td>\n",
       "    </tr>\n",
       "  </tbody>\n",
       "</table>\n",
       "</div>"
      ],
      "text/plain": [
       "   customer_id  rentals_may  rentals_june\n",
       "0            1          2.0             7\n",
       "1            2          1.0             1\n",
       "2            3          2.0             4\n",
       "3            4          NaN             6\n",
       "4            5          3.0             6"
      ]
     },
     "execution_count": 26,
     "metadata": {},
     "output_type": "execute_result"
    }
   ],
   "source": [
    "may_vs_june=customers_may.merge(customers_june, how='right', on='customer_id')\n",
    "may_vs_june.head()"
   ]
  },
  {
   "cell_type": "code",
   "execution_count": 33,
   "id": "6fdb6c75",
   "metadata": {},
   "outputs": [
    {
     "data": {
      "text/plain": [
       "78"
      ]
     },
     "execution_count": 33,
     "metadata": {},
     "output_type": "execute_result"
    }
   ],
   "source": [
    "df = may_vs_june\n",
    "df['rentals_may'].isna().sum()"
   ]
  },
  {
   "cell_type": "code",
   "execution_count": 35,
   "id": "1e5be860",
   "metadata": {
    "scrolled": true
   },
   "outputs": [
    {
     "data": {
      "text/plain": [
       "customer_id       int64\n",
       "rentals_may     float64\n",
       "rentals_june      int64\n",
       "compare          object\n",
       "dtype: object"
      ]
     },
     "execution_count": 35,
     "metadata": {},
     "output_type": "execute_result"
    }
   ],
   "source": [
    "df.dtypes"
   ]
  },
  {
   "cell_type": "code",
   "execution_count": 41,
   "id": "7c3dc73b",
   "metadata": {},
   "outputs": [],
   "source": [
    "df['rentals_may'] = df['rentals_may'].fillna(0)"
   ]
  },
  {
   "cell_type": "code",
   "execution_count": 43,
   "id": "fa075afa",
   "metadata": {},
   "outputs": [
    {
     "data": {
      "text/plain": [
       "customer_id       int64\n",
       "rentals_may     float64\n",
       "rentals_june      int64\n",
       "compare          object\n",
       "dtype: object"
      ]
     },
     "execution_count": 43,
     "metadata": {},
     "output_type": "execute_result"
    }
   ],
   "source": [
    "df.dtypes"
   ]
  },
  {
   "cell_type": "code",
   "execution_count": null,
   "id": "79435bfb",
   "metadata": {},
   "outputs": [],
   "source": [
    "df['rentals_may'] = df['rentals_may'].fillna(0)"
   ]
  },
  {
   "cell_type": "code",
   "execution_count": 50,
   "id": "849c7b49",
   "metadata": {},
   "outputs": [],
   "source": [
    "df['rentals_may'] = df['rentals_may'].apply(lambda x: int(x))"
   ]
  },
  {
   "cell_type": "code",
   "execution_count": 52,
   "id": "c17faeb9",
   "metadata": {},
   "outputs": [
    {
     "data": {
      "text/html": [
       "<div>\n",
       "<style scoped>\n",
       "    .dataframe tbody tr th:only-of-type {\n",
       "        vertical-align: middle;\n",
       "    }\n",
       "\n",
       "    .dataframe tbody tr th {\n",
       "        vertical-align: top;\n",
       "    }\n",
       "\n",
       "    .dataframe thead th {\n",
       "        text-align: right;\n",
       "    }\n",
       "</style>\n",
       "<table border=\"1\" class=\"dataframe\">\n",
       "  <thead>\n",
       "    <tr style=\"text-align: right;\">\n",
       "      <th></th>\n",
       "      <th>customer_id</th>\n",
       "      <th>rentals_may</th>\n",
       "      <th>rentals_june</th>\n",
       "      <th>compare</th>\n",
       "    </tr>\n",
       "  </thead>\n",
       "  <tbody>\n",
       "    <tr>\n",
       "      <th>0</th>\n",
       "      <td>1</td>\n",
       "      <td>2</td>\n",
       "      <td>7</td>\n",
       "      <td>More in June</td>\n",
       "    </tr>\n",
       "    <tr>\n",
       "      <th>1</th>\n",
       "      <td>2</td>\n",
       "      <td>1</td>\n",
       "      <td>1</td>\n",
       "      <td>Same number of rentals in both moths</td>\n",
       "    </tr>\n",
       "    <tr>\n",
       "      <th>2</th>\n",
       "      <td>3</td>\n",
       "      <td>2</td>\n",
       "      <td>4</td>\n",
       "      <td>More in June</td>\n",
       "    </tr>\n",
       "    <tr>\n",
       "      <th>3</th>\n",
       "      <td>4</td>\n",
       "      <td>0</td>\n",
       "      <td>6</td>\n",
       "      <td>More in June</td>\n",
       "    </tr>\n",
       "    <tr>\n",
       "      <th>4</th>\n",
       "      <td>5</td>\n",
       "      <td>3</td>\n",
       "      <td>6</td>\n",
       "      <td>More in June</td>\n",
       "    </tr>\n",
       "    <tr>\n",
       "      <th>...</th>\n",
       "      <td>...</td>\n",
       "      <td>...</td>\n",
       "      <td>...</td>\n",
       "      <td>...</td>\n",
       "    </tr>\n",
       "    <tr>\n",
       "      <th>586</th>\n",
       "      <td>595</td>\n",
       "      <td>1</td>\n",
       "      <td>3</td>\n",
       "      <td>More in June</td>\n",
       "    </tr>\n",
       "    <tr>\n",
       "      <th>587</th>\n",
       "      <td>596</td>\n",
       "      <td>6</td>\n",
       "      <td>2</td>\n",
       "      <td>More in May</td>\n",
       "    </tr>\n",
       "    <tr>\n",
       "      <th>588</th>\n",
       "      <td>597</td>\n",
       "      <td>2</td>\n",
       "      <td>3</td>\n",
       "      <td>More in June</td>\n",
       "    </tr>\n",
       "    <tr>\n",
       "      <th>589</th>\n",
       "      <td>598</td>\n",
       "      <td>0</td>\n",
       "      <td>4</td>\n",
       "      <td>More in June</td>\n",
       "    </tr>\n",
       "    <tr>\n",
       "      <th>590</th>\n",
       "      <td>599</td>\n",
       "      <td>1</td>\n",
       "      <td>4</td>\n",
       "      <td>More in June</td>\n",
       "    </tr>\n",
       "  </tbody>\n",
       "</table>\n",
       "<p>591 rows × 4 columns</p>\n",
       "</div>"
      ],
      "text/plain": [
       "     customer_id  rentals_may  rentals_june  \\\n",
       "0              1            2             7   \n",
       "1              2            1             1   \n",
       "2              3            2             4   \n",
       "3              4            0             6   \n",
       "4              5            3             6   \n",
       "..           ...          ...           ...   \n",
       "586          595            1             3   \n",
       "587          596            6             2   \n",
       "588          597            2             3   \n",
       "589          598            0             4   \n",
       "590          599            1             4   \n",
       "\n",
       "                                  compare  \n",
       "0                            More in June  \n",
       "1    Same number of rentals in both moths  \n",
       "2                            More in June  \n",
       "3                            More in June  \n",
       "4                            More in June  \n",
       "..                                    ...  \n",
       "586                          More in June  \n",
       "587                           More in May  \n",
       "588                          More in June  \n",
       "589                          More in June  \n",
       "590                          More in June  \n",
       "\n",
       "[591 rows x 4 columns]"
      ]
     },
     "execution_count": 52,
     "metadata": {},
     "output_type": "execute_result"
    }
   ],
   "source": [
    "def compare(may_vs_june):\n",
    "    if may_vs_june['rentals_may'] > may_vs_june['rentals_june']:\n",
    "        return 'More in May'\n",
    "    elif may_vs_june['rentals_june'] > may_vs_june['rentals_may']:\n",
    "        return 'More in June'\n",
    "    elif may_vs_june['rentals_june'] == may_vs_june['rentals_may']:\n",
    "        return 'Same number of rentals in both moths'\n",
    "df['compare'] = df.apply(compare, axis=1)\n",
    "df"
   ]
  }
 ],
 "metadata": {
  "kernelspec": {
   "display_name": "Python 3",
   "language": "python",
   "name": "python3"
  },
  "language_info": {
   "codemirror_mode": {
    "name": "ipython",
    "version": 3
   },
   "file_extension": ".py",
   "mimetype": "text/x-python",
   "name": "python",
   "nbconvert_exporter": "python",
   "pygments_lexer": "ipython3",
   "version": "3.8.8"
  }
 },
 "nbformat": 4,
 "nbformat_minor": 5
}
